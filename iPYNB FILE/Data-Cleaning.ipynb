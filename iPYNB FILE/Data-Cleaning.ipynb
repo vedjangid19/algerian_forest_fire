{
 "cells": [
  {
   "cell_type": "code",
   "execution_count": 50,
   "metadata": {},
   "outputs": [],
   "source": [
    "# IMPORT LIBRARY\n",
    "import pandas as pd\n",
    "import numpy as np\n",
    "import matplotlib.pylab as plt\n",
    "import seaborn as sns"
   ]
  },
  {
   "cell_type": "code",
   "execution_count": 51,
   "metadata": {},
   "outputs": [],
   "source": [
    "DATASET_URL = \"https://raw.githubusercontent.com/vedjangid19/dataset/main/Algerian_forest_fires_dataset_UPDATE.csv\""
   ]
  },
  {
   "cell_type": "code",
   "execution_count": 52,
   "metadata": {},
   "outputs": [
    {
     "data": {
      "text/html": [
       "<div>\n",
       "<style scoped>\n",
       "    .dataframe tbody tr th:only-of-type {\n",
       "        vertical-align: middle;\n",
       "    }\n",
       "\n",
       "    .dataframe tbody tr th {\n",
       "        vertical-align: top;\n",
       "    }\n",
       "\n",
       "    .dataframe thead th {\n",
       "        text-align: right;\n",
       "    }\n",
       "</style>\n",
       "<table border=\"1\" class=\"dataframe\">\n",
       "  <thead>\n",
       "    <tr style=\"text-align: right;\">\n",
       "      <th></th>\n",
       "      <th>day</th>\n",
       "      <th>month</th>\n",
       "      <th>year</th>\n",
       "      <th>Temperature</th>\n",
       "      <th>RH</th>\n",
       "      <th>Ws</th>\n",
       "      <th>Rain</th>\n",
       "      <th>FFMC</th>\n",
       "      <th>DMC</th>\n",
       "      <th>DC</th>\n",
       "      <th>ISI</th>\n",
       "      <th>BUI</th>\n",
       "      <th>FWI</th>\n",
       "      <th>Classes</th>\n",
       "    </tr>\n",
       "  </thead>\n",
       "  <tbody>\n",
       "    <tr>\n",
       "      <th>0</th>\n",
       "      <td>01</td>\n",
       "      <td>06</td>\n",
       "      <td>2012</td>\n",
       "      <td>29</td>\n",
       "      <td>57</td>\n",
       "      <td>18</td>\n",
       "      <td>0</td>\n",
       "      <td>65.7</td>\n",
       "      <td>3.4</td>\n",
       "      <td>7.6</td>\n",
       "      <td>1.3</td>\n",
       "      <td>3.4</td>\n",
       "      <td>0.5</td>\n",
       "      <td>not fire</td>\n",
       "    </tr>\n",
       "    <tr>\n",
       "      <th>1</th>\n",
       "      <td>02</td>\n",
       "      <td>06</td>\n",
       "      <td>2012</td>\n",
       "      <td>29</td>\n",
       "      <td>61</td>\n",
       "      <td>13</td>\n",
       "      <td>1.3</td>\n",
       "      <td>64.4</td>\n",
       "      <td>4.1</td>\n",
       "      <td>7.6</td>\n",
       "      <td>1</td>\n",
       "      <td>3.9</td>\n",
       "      <td>0.4</td>\n",
       "      <td>not fire</td>\n",
       "    </tr>\n",
       "    <tr>\n",
       "      <th>2</th>\n",
       "      <td>03</td>\n",
       "      <td>06</td>\n",
       "      <td>2012</td>\n",
       "      <td>26</td>\n",
       "      <td>82</td>\n",
       "      <td>22</td>\n",
       "      <td>13.1</td>\n",
       "      <td>47.1</td>\n",
       "      <td>2.5</td>\n",
       "      <td>7.1</td>\n",
       "      <td>0.3</td>\n",
       "      <td>2.7</td>\n",
       "      <td>0.1</td>\n",
       "      <td>not fire</td>\n",
       "    </tr>\n",
       "  </tbody>\n",
       "</table>\n",
       "</div>"
      ],
      "text/plain": [
       "  day month  year Temperature  RH  Ws Rain   FFMC  DMC   DC  ISI  BUI  FWI  \\\n",
       "0  01    06  2012          29  57  18     0  65.7  3.4  7.6  1.3  3.4  0.5   \n",
       "1  02    06  2012          29  61  13   1.3  64.4  4.1  7.6    1  3.9  0.4   \n",
       "2  03    06  2012          26  82  22  13.1  47.1  2.5  7.1  0.3  2.7  0.1   \n",
       "\n",
       "     Classes    \n",
       "0  not fire     \n",
       "1  not fire     \n",
       "2  not fire     "
      ]
     },
     "execution_count": 52,
     "metadata": {},
     "output_type": "execute_result"
    }
   ],
   "source": [
    "dataset = pd.read_csv(DATASET_URL,header=1)\n",
    "dataset.head(3)"
   ]
  },
  {
   "cell_type": "code",
   "execution_count": 53,
   "metadata": {},
   "outputs": [
    {
     "name": "stdout",
     "output_type": "stream",
     "text": [
      "day Column has \n",
      "['01' '02' '03' '04' '05' '06' '07' '08' '09' '10' '11' '12' '13' '14'\n",
      " '15' '16' '17' '18' '19' '20' '21' '22' '23' '24' '25' '26' '27' '28'\n",
      " '29' '30' '31' 'Sidi-Bel Abbes Region Dataset' 'day']\n",
      "month Column has \n",
      "['06' '07' '08' '09' nan 'month']\n",
      "year Column has \n",
      "['2012' nan 'year']\n",
      "Temperature Column has \n",
      "['29' '26' '25' '27' '31' '33' '30' '28' '32' '34' '35' '36' '37' '22'\n",
      " '24' nan 'Temperature' '38' '39' '40' '42']\n",
      " RH Column has \n",
      "['57' '61' '82' '89' '77' '67' '54' '73' '88' '79' '65' '81' '84' '78'\n",
      " '80' '55' '62' '66' '64' '53' '47' '50' '68' '75' '76' '63' '69' '70'\n",
      " '59' '48' '45' '60' '51' '52' '58' '86' '74' '71' '49' nan ' RH' '44'\n",
      " '41' '42' '90' '87' '72' '46' '37' '36' '56' '43' '83' '29' '34' '33'\n",
      " '35' '39' '31' '21' '40' '24' '38' '26']\n",
      " Ws Column has \n",
      "['18' '13' '22' '16' '14' '15' '12' '19' '21' '20' '17' '26' '11' nan\n",
      " ' Ws' '10' '9' '8' '6' '29']\n",
      "Rain  Column has \n",
      "['0' '1.3' '13.1' '2.5' '0.2' '1.2' '0.5' '3.1' '0.7' '0.6' '0.3' '0.1'\n",
      " '0.4' '1' '1.4' '0.8' '16.8' '7.2' '10.1' '3.8' '0.9' '1.8' '4.6' '8.3'\n",
      " '5.8' nan 'Rain ' '4' '2' '4.7' '8.7' '4.5' '1.1' '1.7' '2.2' '6' '1.9'\n",
      " '2.9' '4.1' '6.5' '4.4']\n",
      "FFMC Column has \n",
      "['65.7' '64.4' '47.1' '28.6' '64.8' '82.6' '88.2' '86.6' '52.9' '73.2'\n",
      " '84.5' '84' '50' '59' '49.4' '36.1' '37.3' '56.9' '79.9' '59.8' '81'\n",
      " '79.1' '81.4' '85.9' '86.7' '86.8' '89' '89.1' '88.7' '59.9' '55.7'\n",
      " '63.1' '80.1' '87' '80' '85.6' '66.6' '81.1' '75.1' '81.8' '73.9' '60.7'\n",
      " '72.6' '82.8' '85.4' '88.1' '73.4' '68.2' '70' '84.3' '89.2' '90.3'\n",
      " '86.5' '87.2' '78.8' '78' '76.6' '85' '86.4' '77.1' '87.4' '88.9' '81.3'\n",
      " '82.4' '80.2' '89.3' '89.4' '88.3' '88.6' '89.5' '85.8' '84.9' '90.1'\n",
      " '72.7' '52.5' '46' '30.5' '42.6' '68.4' '80.8' '75.8' '69.6' '62' '56.1'\n",
      " '58.5' '71' '40.9' '47.4' '44.9' '78.1' '87.7' '83.8' '87.8' '77.8'\n",
      " '73.7' '68.3' '48.6' '82' '85.7' '77.5' '45' nan 'FFMC' '57.1' '48.7'\n",
      " '79.4' '83.7' '71.4' '90.6' '72.3' '53.4' '66.8' '62.2' '65.5' '64.6'\n",
      " '60.2' '86.2' '78.3' '74.2' '85.3' '86' '92.5' '79.7' '63.7' '87.6'\n",
      " '84.7' '88' '90.5' '82.3' '74.8' '85.2' '84.6' '86.1' '89.9' '93.9'\n",
      " '91.5' '87.3' '72.8' '73.8' '87.5' '93.3' '93.7' '93.8' '70.5' '69.7'\n",
      " '91.7' '94.2' '93' '91.9' '83.9' '92' '96' '94.3' '82.7' '91.2' '92.1'\n",
      " '92.2' '91' '79.2' '37.9' '75.4' '82.2' '73.5' '66.1' '64.5' '83.3'\n",
      " '82.5' '83.1' '59.5' '84.2' '79.5' '61.3' '41.1' '45.9' '67.3']\n",
      "DMC Column has \n",
      "['3.4' '4.1' '2.5' '1.3' '3' '5.8' '9.9' '12.1' '7.9' '9.5' '12.5' '13.8'\n",
      " '6.7' '4.6' '1.7' '1.1' '1.9' '4.5' '6.3' '7' '8.2' '11.2' '14.2' '17.8'\n",
      " '21.6' '25.5' '18.4' '22.9' '2.4' '2.6' '7.6' '10.9' '9.7' '7.7' '6'\n",
      " '8.1' '7.8' '5.2' '9.4' '12' '12.3' '18.5' '16.4' '10.5' '9.6' '17.1'\n",
      " '22.2' '24.4' '26.7' '28.5' '31.9' '4.8' '5.7' '11.1' '13' '15.5' '11.3'\n",
      " '14.8' '18.6' '21.7' '15.6' '19' '11.7' '16' '20' '23.2' '25.9' '29.6'\n",
      " '33.5' '37.6' '40.5' '43.9' '45.6' '47' '50.2' '54.2' '25.2' '8.7' '0.7'\n",
      " '1.2' '3.6' '3.2' '2.1' '2.2' '0.9' '6.4' '9.8' '13.5' '16.5' '10.6'\n",
      " '5.5' '8.3' '7.1' '2.9' nan 'DMC' '2.7' '8.4' '8.5' '13.3' '18.2' '21.3'\n",
      " '11.4' '7.2' '4.2' '3.9' '4.4' '3.8' '10' '12.8' '20.9' '27.2' '17.9'\n",
      " '13.6' '18.7' '8' '12.6' '12.9' '18' '19.4' '21.1' '23.9' '27.8' '32.7'\n",
      " '39.6' '44.2' '46.6' '10.8' '11.8' '15.7' '19.5' '23.8' '28.3' '23'\n",
      " '23.6' '11' '15.8' '22.5' '16.9' '22.3' '22.6' '30.3' '35.9' '34.4'\n",
      " '36.9' '41.1' '46.1' '51.3' '56.3' '61.3' '65.9' '37' '20.7' '24.8' '4'\n",
      " '3.3' '6.6' '4.7' '6.5' '11.5' '21.2' '25.8' '24.9' '26.1' '29.4' '11.9'\n",
      " '3.5' '4.3']\n",
      "DC Column has \n",
      "['7.6' '7.1' '6.9' '14.2' '22.2' '30.5' '38.3' '38.8' '46.3' '54.3' '61.4'\n",
      " '17' '7.8' '7.4' '8' '16' '27.1' '31.6' '39.5' '47.7' '55.8' '63.8'\n",
      " '71.8' '80.3' '88.5' '84.4' '92.8' '8.6' '8.3' '9.2' '18.5' '27.9' '37'\n",
      " '40.4' '49.8' '9.3' '18.7' '27.7' '37.2' '22.9' '25.5' '34.1' '43.1'\n",
      " '52.8' '62.1' '71.5' '79.9' '71.3' '79.7' '88.7' '98.6' '108.5' '117.8'\n",
      " '127' '136' '145.7' '10.2' '10' '19.8' '29.7' '39.1' '48.6' '47' '57'\n",
      " '67' '77' '75.1' '85.1' '94.7' '92.5' '90.4' '100.7' '110.9' '120.9'\n",
      " '130.6' '141.1' '151.3' '161.5' '171.3' '181.3' '190.6' '200.2' '210.4'\n",
      " '220.4' '180.4' '8.7' '7.5' '7' '15.7' '24' '32.2' '30.1' '8.4' '8.9'\n",
      " '16.6' '7.3' '24.3' '33.1' '41.3' '49.3' '57.9' '41.4' '30.4' '15.2'\n",
      " '7.7' '16.3' '24.9' '8.8' nan 'DC' '8.2' '15.4' '17.6' '26.3' '28.9'\n",
      " '14.7' '22.5' '37.8' '18.4' '25.6' '34.5' '43.3' '52.4' '36.7' '8.5'\n",
      " '17.8' '27.3' '36.8' '46.4' '45.1' '35.4' '9.7' '9.9' '9.5' '19.4' '10.4'\n",
      " '14.6 9' '24.1' '42.3' '51.6' '61.1' '71' '80.6' '90.1' '99' '56.6'\n",
      " '15.9' '19.7' '28.3' '37.6' '47.2' '57.1' '67.2' '10.5' '21.4' '32.1'\n",
      " '42.7' '52.5' '9.1' '9.8' '20.2' '30.9' '41.5' '55.5' '54.2' '65.1'\n",
      " '76.4' '86.8' '96.8' '107' '117.1' '127.5' '137.7' '147.7' '157.5'\n",
      " '167.2' '177.3' '166' '149.2' '159.1' '168.2' '26.6' '17.7' '26.1' '25.2'\n",
      " '33.4' '50.2' '59.2' '63.3' '77.8' '86' '88' '97.3' '106.3' '115.6'\n",
      " '28.1' '36.1' '44.5' '7.9' '16.5']\n",
      "ISI Column has \n",
      "['1.3' '1' '0.3' '0' '1.2' '3.1' '6.4' '5.6' '0.4' '4' '4.8' '0.5' '0.7'\n",
      " '2.5' '0.9' '2.6' '2.4' '3.3' '5.7' '6.7' '9.2' '7.6' '2.2' '7.2' '1.1'\n",
      " '0.8' '2.7' '2.8' '6' '1.5' '3' '1.4' '3.2' '4.6' '7.7' '5.2' '1.8' '10'\n",
      " '8.7' '4.7' '6.8' '2' '1.7' '5.5' '6.9' '7.4' '7.1' '5.9' '3.7' '9.7'\n",
      " '8.8' '9.9' '10.4' '9' '8.2' '4.4' '7.3' '12.5' '0.6' '0.2' '0.1' '2.1'\n",
      " '1.9' '6.2' '7.8' '4.5' '5.4' nan 'ISI' '8.4' '13.4' '5' '1.6' '4.9' '7'\n",
      " '8' '11.7' '11.3' '4.3' '4.1' '8.3' '4.2' '10.9' '9.5' '18.5' '13.2'\n",
      " '13.8' '17.2' '15.7' '19' '9.6' '16.6' '15.5' '7.5' '10.8' '3.5' '16'\n",
      " '3.8' '5.1' '11.5' '12.2' '14.3' '13.1' '8.1' '9.8' '9.1' '14.2' '11.2']\n",
      "BUI Column has \n",
      "['3.4' '3.9' '2.7' '1.7' '7' '10.9' '13.5' '10.5' '12.6' '15.8' '17.7'\n",
      " '6.7' '4.4' '3' '2.2' '1.6' '2.4' '5.3' '5.1' '8.4' '9.7' '11.5' '14.9'\n",
      " '18.3' '21.6' '25.8' '29.7' '23.8' '28.3' '2.9' '2.8' '5.7' '9.1' '12.5'\n",
      " '12.1' '15.4' '7.4' '5.8' '8.1' '9.2' '11.7' '5.9' '8.3' '11.1' '14.2'\n",
      " '18.2' '16.5' '22.4' '21.7' '14.7' '18.5' '23.9' '29.4' '32.1' '35'\n",
      " '37.4' '41.2' '4.7' '5.5' '8.2' '17.2' '14.1' '17.9' '21.9' '25.5' '20.7'\n",
      " '24.4' '27.2' '22' '17.6' '22.9' '27.5' '31.3' '34.7' '38.8' '43.1'\n",
      " '47.5' '50.9' '54.7' '57.1' '59.3' '62.9' '67.4' '1.8' '1.1' '5.6' '2.6'\n",
      " '3.7' '1.4' '4.2' '7.7' '11.3' '16' '19.2' '12.9' '9.6' '6.2' '9' '6.8'\n",
      " nan 'BUI' '6.5' '9.3' '10.7' '7.3' '13.1' '18' '21.2' '6.1' '7.1' '4.1'\n",
      " '3.8' '9.9' '12.7' '16.4' '20.8' '27.1' '17.8' '3.3' '7.8' '10.3' '18.7'\n",
      " '16.7' '13.7' '9.4' '10.4' '20.9' '27.7' '32.6' '39.5' '44' '46.5' '11.4'\n",
      " '11.8' '15.7' '19.5' '10.6' '16.9' '23.5' '6.9' '11' '18.4' '17.5' '22.3'\n",
      " '19' '24.2' '30.4' '35.9' '35.5' '38.1' '41.3' '45.5' '50.2' '54.9'\n",
      " '59.5' '64' '68' '30.6' '35.7' '39.3' '4' '6' '3.5' '6.4' '10' '4.6'\n",
      " '6.6' '12.4' '14.3' '26.2' '28.2' '28.9' '32.4' '36' '11.9' '4.8']\n",
      "FWI Column has \n",
      "['0.5' '0.4' '0.1' '0' '2.5' '7.2' '7.1' '0.3' '0.9' '5.6' '7.1 ' '0.2'\n",
      " '1.4' '2.2' '2.3' '3.8' '7.5' '8.4' '10.6' '15' '13.9' '3.9' '12.9' '1.7'\n",
      " '4.9' '6.8' '3.2' '8' '0.6' '3.4' '0.8' '3.6' '6' '10.9' '4' '8.8' '2.8'\n",
      " '2.1' '1.3' '7.3' '15.3' '11.3' '11.9' '10.7' '15.7' '6.1' '2.6' '9.9'\n",
      " '11.6' '12.1' '4.2' '10.2' '6.3' '14.6' '16.1' '17.2' '16.8' '18.4'\n",
      " '20.4' '22.3' '20.9' '20.3' '13.7' '13.2' '19.9' '30.2' '5.9' '7.7' '9.7'\n",
      " '8.3' '0.7' '4.1' nan 'FWI' '1' '3.1' '1.9' '10' '16.7' '1.2' '5.3' '6.7'\n",
      " '9.5' '12' '6.4' '5.2' '3' '9.6' '4.7' 'fire   ' '14.1' '9.1' '13' '17.3'\n",
      " '30' '25.4' '16.3' '9' '14.5' '13.5' '19.5' '12.6' '12.7' '21.6' '18.8'\n",
      " '10.5' '5.5' '14.8' '24' '26.3' '12.2' '18.1' '24.5' '26.9' '31.1' '30.3'\n",
      " '26.1' '16' '19.4' '2.7' '3.7' '10.3' '5.7' '9.8' '19.3' '17.5' '15.4'\n",
      " '15.2' '6.5']\n",
      "Classes   Column has \n",
      "['not fire   ' 'fire   ' 'fire' 'fire ' 'not fire' 'not fire ' nan\n",
      " 'Classes  ' 'not fire     ' 'not fire    ']\n"
     ]
    }
   ],
   "source": [
    "# FINDING UNIQUE VALUES\n",
    "for column in dataset.columns:\n",
    "    print(f\"{column} Column has \\n{dataset[column].unique()}\")\n"
   ]
  },
  {
   "cell_type": "code",
   "execution_count": 54,
   "metadata": {},
   "outputs": [
    {
     "name": "stdout",
     "output_type": "stream",
     "text": [
      "(246, 14)\n",
      "(244, 14)\n"
     ]
    }
   ],
   "source": [
    "# DELETE ROW IF COLUMN VALUE IS - 'Sidi-Bel Abbes Region Dataset' 'day'\n",
    "print(dataset.shape)\n",
    "index1 = dataset[dataset['day'] == \"Sidi-Bel Abbes Region Dataset\"].index\n",
    "index2 = dataset[dataset['day'] == \"day\"].index\n",
    "dataset.drop(index1, inplace=True)\n",
    "dataset.drop(index2, inplace=True)\n",
    "print(dataset.shape)"
   ]
  },
  {
   "cell_type": "code",
   "execution_count": 55,
   "metadata": {},
   "outputs": [
    {
     "data": {
      "text/html": [
       "<div>\n",
       "<style scoped>\n",
       "    .dataframe tbody tr th:only-of-type {\n",
       "        vertical-align: middle;\n",
       "    }\n",
       "\n",
       "    .dataframe tbody tr th {\n",
       "        vertical-align: top;\n",
       "    }\n",
       "\n",
       "    .dataframe thead th {\n",
       "        text-align: right;\n",
       "    }\n",
       "</style>\n",
       "<table border=\"1\" class=\"dataframe\">\n",
       "  <thead>\n",
       "    <tr style=\"text-align: right;\">\n",
       "      <th></th>\n",
       "      <th>day</th>\n",
       "      <th>month</th>\n",
       "      <th>year</th>\n",
       "      <th>Temperature</th>\n",
       "      <th>RH</th>\n",
       "      <th>Ws</th>\n",
       "      <th>Rain</th>\n",
       "      <th>FFMC</th>\n",
       "      <th>DMC</th>\n",
       "      <th>DC</th>\n",
       "      <th>ISI</th>\n",
       "      <th>BUI</th>\n",
       "      <th>FWI</th>\n",
       "      <th>Classes</th>\n",
       "    </tr>\n",
       "  </thead>\n",
       "  <tbody>\n",
       "    <tr>\n",
       "      <th>0</th>\n",
       "      <td>01</td>\n",
       "      <td>06</td>\n",
       "      <td>2012</td>\n",
       "      <td>29</td>\n",
       "      <td>57</td>\n",
       "      <td>18</td>\n",
       "      <td>0</td>\n",
       "      <td>65.7</td>\n",
       "      <td>3.4</td>\n",
       "      <td>7.6</td>\n",
       "      <td>1.3</td>\n",
       "      <td>3.4</td>\n",
       "      <td>0.5</td>\n",
       "      <td>not fire</td>\n",
       "    </tr>\n",
       "    <tr>\n",
       "      <th>1</th>\n",
       "      <td>02</td>\n",
       "      <td>06</td>\n",
       "      <td>2012</td>\n",
       "      <td>29</td>\n",
       "      <td>61</td>\n",
       "      <td>13</td>\n",
       "      <td>1.3</td>\n",
       "      <td>64.4</td>\n",
       "      <td>4.1</td>\n",
       "      <td>7.6</td>\n",
       "      <td>1</td>\n",
       "      <td>3.9</td>\n",
       "      <td>0.4</td>\n",
       "      <td>not fire</td>\n",
       "    </tr>\n",
       "    <tr>\n",
       "      <th>2</th>\n",
       "      <td>03</td>\n",
       "      <td>06</td>\n",
       "      <td>2012</td>\n",
       "      <td>26</td>\n",
       "      <td>82</td>\n",
       "      <td>22</td>\n",
       "      <td>13.1</td>\n",
       "      <td>47.1</td>\n",
       "      <td>2.5</td>\n",
       "      <td>7.1</td>\n",
       "      <td>0.3</td>\n",
       "      <td>2.7</td>\n",
       "      <td>0.1</td>\n",
       "      <td>not fire</td>\n",
       "    </tr>\n",
       "  </tbody>\n",
       "</table>\n",
       "</div>"
      ],
      "text/plain": [
       "  day month  year Temperature  RH  Ws Rain   FFMC  DMC   DC  ISI  BUI  FWI  \\\n",
       "0  01    06  2012          29  57  18     0  65.7  3.4  7.6  1.3  3.4  0.5   \n",
       "1  02    06  2012          29  61  13   1.3  64.4  4.1  7.6    1  3.9  0.4   \n",
       "2  03    06  2012          26  82  22  13.1  47.1  2.5  7.1  0.3  2.7  0.1   \n",
       "\n",
       "     Classes    \n",
       "0  not fire     \n",
       "1  not fire     \n",
       "2  not fire     "
      ]
     },
     "execution_count": 55,
     "metadata": {},
     "output_type": "execute_result"
    }
   ],
   "source": [
    "dataset.head(3)"
   ]
  },
  {
   "cell_type": "code",
   "execution_count": 56,
   "metadata": {},
   "outputs": [
    {
     "data": {
      "text/plain": [
       "Index(['day', 'month', 'year', 'Temperature', ' RH', ' Ws', 'Rain ', 'FFMC',\n",
       "       'DMC', 'DC', 'ISI', 'BUI', 'FWI', 'Classes  '],\n",
       "      dtype='object')"
      ]
     },
     "execution_count": 56,
     "metadata": {},
     "output_type": "execute_result"
    }
   ],
   "source": [
    "df = dataset.copy()\n",
    "df.columns"
   ]
  },
  {
   "cell_type": "code",
   "execution_count": 57,
   "metadata": {},
   "outputs": [
    {
     "data": {
      "text/plain": [
       "Index(['day', 'month', 'year', 'Temperature', 'RH', 'Ws', 'Rain', 'FFMC',\n",
       "       'DMC', 'DC', 'ISI', 'BUI', 'FWI', 'Classes'],\n",
       "      dtype='object')"
      ]
     },
     "execution_count": 57,
     "metadata": {},
     "output_type": "execute_result"
    }
   ],
   "source": [
    "# REMOVING WHITE SPACE FROM COLUMN VALUE\n",
    "df.columns = df.columns.str.replace(' ','')\n",
    "df.columns"
   ]
  },
  {
   "cell_type": "code",
   "execution_count": 58,
   "metadata": {},
   "outputs": [
    {
     "data": {
      "text/plain": [
       "array(['not fire   ', 'fire   ', 'fire', 'fire ', 'not fire', 'not fire ',\n",
       "       'not fire     ', nan, 'not fire    '], dtype=object)"
      ]
     },
     "execution_count": 58,
     "metadata": {},
     "output_type": "execute_result"
    }
   ],
   "source": [
    "df['Classes'].unique()"
   ]
  },
  {
   "cell_type": "code",
   "execution_count": 59,
   "metadata": {},
   "outputs": [
    {
     "data": {
      "text/plain": [
       "array(['not fire', 'fire', nan], dtype=object)"
      ]
     },
     "execution_count": 59,
     "metadata": {},
     "output_type": "execute_result"
    }
   ],
   "source": [
    "df['Classes'] = df.Classes.str.strip()\n",
    "df['Classes'].unique()"
   ]
  },
  {
   "cell_type": "code",
   "execution_count": 63,
   "metadata": {},
   "outputs": [
    {
     "name": "stdout",
     "output_type": "stream",
     "text": [
      "(244, 14)\n",
      "(243, 14)\n"
     ]
    }
   ],
   "source": [
    "# DROP NAN VALUE\n",
    "nan_index = df[df.Classes.isna()].index\n",
    "print(df.shape)\n",
    "df.drop(nan_index, inplace=True)\n",
    "print(df.shape)\n"
   ]
  },
  {
   "cell_type": "code",
   "execution_count": 64,
   "metadata": {},
   "outputs": [
    {
     "name": "stdout",
     "output_type": "stream",
     "text": [
      "<class 'pandas.core.frame.DataFrame'>\n",
      "Int64Index: 243 entries, 0 to 245\n",
      "Data columns (total 14 columns):\n",
      " #   Column       Non-Null Count  Dtype \n",
      "---  ------       --------------  ----- \n",
      " 0   day          243 non-null    object\n",
      " 1   month        243 non-null    object\n",
      " 2   year         243 non-null    object\n",
      " 3   Temperature  243 non-null    object\n",
      " 4   RH           243 non-null    object\n",
      " 5   Ws           243 non-null    object\n",
      " 6   Rain         243 non-null    object\n",
      " 7   FFMC         243 non-null    object\n",
      " 8   DMC          243 non-null    object\n",
      " 9   DC           243 non-null    object\n",
      " 10  ISI          243 non-null    object\n",
      " 11  BUI          243 non-null    object\n",
      " 12  FWI          243 non-null    object\n",
      " 13  Classes      243 non-null    object\n",
      "dtypes: object(14)\n",
      "memory usage: 28.5+ KB\n"
     ]
    }
   ],
   "source": [
    "df.info()"
   ]
  },
  {
   "cell_type": "code",
   "execution_count": 65,
   "metadata": {},
   "outputs": [
    {
     "data": {
      "text/html": [
       "<div>\n",
       "<style scoped>\n",
       "    .dataframe tbody tr th:only-of-type {\n",
       "        vertical-align: middle;\n",
       "    }\n",
       "\n",
       "    .dataframe tbody tr th {\n",
       "        vertical-align: top;\n",
       "    }\n",
       "\n",
       "    .dataframe thead th {\n",
       "        text-align: right;\n",
       "    }\n",
       "</style>\n",
       "<table border=\"1\" class=\"dataframe\">\n",
       "  <thead>\n",
       "    <tr style=\"text-align: right;\">\n",
       "      <th></th>\n",
       "      <th>day</th>\n",
       "      <th>month</th>\n",
       "      <th>year</th>\n",
       "      <th>Temperature</th>\n",
       "      <th>RH</th>\n",
       "      <th>Ws</th>\n",
       "      <th>Rain</th>\n",
       "      <th>FFMC</th>\n",
       "      <th>DMC</th>\n",
       "      <th>DC</th>\n",
       "      <th>ISI</th>\n",
       "      <th>BUI</th>\n",
       "      <th>FWI</th>\n",
       "      <th>Classes</th>\n",
       "    </tr>\n",
       "  </thead>\n",
       "  <tbody>\n",
       "    <tr>\n",
       "      <th>0</th>\n",
       "      <td>01</td>\n",
       "      <td>06</td>\n",
       "      <td>2012</td>\n",
       "      <td>29</td>\n",
       "      <td>57</td>\n",
       "      <td>18</td>\n",
       "      <td>0</td>\n",
       "      <td>65.7</td>\n",
       "      <td>3.4</td>\n",
       "      <td>7.6</td>\n",
       "      <td>1.3</td>\n",
       "      <td>3.4</td>\n",
       "      <td>0.5</td>\n",
       "      <td>not fire</td>\n",
       "    </tr>\n",
       "    <tr>\n",
       "      <th>1</th>\n",
       "      <td>02</td>\n",
       "      <td>06</td>\n",
       "      <td>2012</td>\n",
       "      <td>29</td>\n",
       "      <td>61</td>\n",
       "      <td>13</td>\n",
       "      <td>1.3</td>\n",
       "      <td>64.4</td>\n",
       "      <td>4.1</td>\n",
       "      <td>7.6</td>\n",
       "      <td>1</td>\n",
       "      <td>3.9</td>\n",
       "      <td>0.4</td>\n",
       "      <td>not fire</td>\n",
       "    </tr>\n",
       "    <tr>\n",
       "      <th>2</th>\n",
       "      <td>03</td>\n",
       "      <td>06</td>\n",
       "      <td>2012</td>\n",
       "      <td>26</td>\n",
       "      <td>82</td>\n",
       "      <td>22</td>\n",
       "      <td>13.1</td>\n",
       "      <td>47.1</td>\n",
       "      <td>2.5</td>\n",
       "      <td>7.1</td>\n",
       "      <td>0.3</td>\n",
       "      <td>2.7</td>\n",
       "      <td>0.1</td>\n",
       "      <td>not fire</td>\n",
       "    </tr>\n",
       "  </tbody>\n",
       "</table>\n",
       "</div>"
      ],
      "text/plain": [
       "  day month  year Temperature  RH  Ws  Rain  FFMC  DMC   DC  ISI  BUI  FWI  \\\n",
       "0  01    06  2012          29  57  18     0  65.7  3.4  7.6  1.3  3.4  0.5   \n",
       "1  02    06  2012          29  61  13   1.3  64.4  4.1  7.6    1  3.9  0.4   \n",
       "2  03    06  2012          26  82  22  13.1  47.1  2.5  7.1  0.3  2.7  0.1   \n",
       "\n",
       "    Classes  \n",
       "0  not fire  \n",
       "1  not fire  \n",
       "2  not fire  "
      ]
     },
     "execution_count": 65,
     "metadata": {},
     "output_type": "execute_result"
    }
   ],
   "source": [
    "df.head(3)"
   ]
  },
  {
   "cell_type": "code",
   "execution_count": 66,
   "metadata": {},
   "outputs": [
    {
     "name": "stdout",
     "output_type": "stream",
     "text": [
      "<class 'pandas.core.frame.DataFrame'>\n",
      "Int64Index: 243 entries, 0 to 245\n",
      "Data columns (total 14 columns):\n",
      " #   Column       Non-Null Count  Dtype  \n",
      "---  ------       --------------  -----  \n",
      " 0   day          243 non-null    int32  \n",
      " 1   month        243 non-null    int32  \n",
      " 2   year         243 non-null    int32  \n",
      " 3   Temperature  243 non-null    int32  \n",
      " 4   RH           243 non-null    int32  \n",
      " 5   Ws           243 non-null    int32  \n",
      " 6   Rain         243 non-null    float64\n",
      " 7   FFMC         243 non-null    float64\n",
      " 8   DMC          243 non-null    float64\n",
      " 9   DC           243 non-null    float64\n",
      " 10  ISI          243 non-null    float64\n",
      " 11  BUI          243 non-null    float64\n",
      " 12  FWI          243 non-null    float64\n",
      " 13  Classes      243 non-null    object \n",
      "dtypes: float64(7), int32(6), object(1)\n",
      "memory usage: 22.8+ KB\n"
     ]
    }
   ],
   "source": [
    "df = df.astype({\n",
    "    'day': \"int\",\n",
    "    'month': \"int\",\n",
    "    'year': \"int\",\n",
    "    'Temperature': \"int\",\n",
    "    'RH': \"int\",\n",
    "    'Ws': \"int\",\n",
    "    'Rain': \"float\",\n",
    "    'FFMC': \"float\",\n",
    "    'DMC': \"float\",\n",
    "    'DC': \"float\",\n",
    "    'ISI': \"float\",\n",
    "    'BUI': \"float\",\n",
    "    'FWI': \"float\"\n",
    "})\n",
    "df.info()"
   ]
  },
  {
   "cell_type": "code",
   "execution_count": 67,
   "metadata": {},
   "outputs": [],
   "source": [
    "df.to_csv(\"Cleaned_Data.csv\",index=False)"
   ]
  },
  {
   "cell_type": "code",
   "execution_count": null,
   "metadata": {},
   "outputs": [],
   "source": []
  }
 ],
 "metadata": {
  "kernelspec": {
   "display_name": "Python 3.7.9 64-bit",
   "language": "python",
   "name": "python3"
  },
  "language_info": {
   "codemirror_mode": {
    "name": "ipython",
    "version": 3
   },
   "file_extension": ".py",
   "mimetype": "text/x-python",
   "name": "python",
   "nbconvert_exporter": "python",
   "pygments_lexer": "ipython3",
   "version": "3.7.9"
  },
  "orig_nbformat": 4,
  "vscode": {
   "interpreter": {
    "hash": "76f9d24db490f063a43275b89fd1d2161713c4a18df9de8776ded94173eccf3a"
   }
  }
 },
 "nbformat": 4,
 "nbformat_minor": 2
}
