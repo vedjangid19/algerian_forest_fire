{
 "cells": [
  {
   "cell_type": "code",
   "execution_count": 1,
   "metadata": {},
   "outputs": [],
   "source": [
    "import pandas as pd\n",
    "import numpy as np\n",
    "import seaborn as sns\n",
    "import matplotlib.pyplot as plt\n",
    "from sklearn.compose import ColumnTransformer\n",
    "from sklearn.pipeline import Pipeline, make_pipeline\n",
    "from sklearn.neighbors import KNeighborsRegressor\n",
    "from sklearn.preprocessing import OneHotEncoder,PowerTransformer, StandardScaler, MinMaxScaler\n",
    "from sklearn.tree import DecisionTreeRegressor\n",
    "from sklearn.ensemble import RandomForestRegressor,AdaBoostRegressor\n",
    "from sklearn.svm import SVR\n",
    "from sklearn.model_selection import train_test_split\n",
    "from sklearn.linear_model import LinearRegression, Ridge,Lasso\n",
    "from sklearn.metrics import r2_score, mean_absolute_error\n",
    "from sklearn.model_selection import train_test_split,RandomizedSearchCV, GridSearchCV\n",
    "import pickle"
   ]
  },
  {
   "cell_type": "code",
   "execution_count": 8,
   "metadata": {},
   "outputs": [],
   "source": [
    "file_path = \"Outlier_removed.csv\"\n",
    "df = pd.read_csv(file_path)\n",
    "df['Classes']=df['Classes'].apply(lambda x :1 if x == 'fire' else 0)"
   ]
  },
  {
   "cell_type": "code",
   "execution_count": 9,
   "metadata": {},
   "outputs": [],
   "source": [
    "X = df.drop(columns=['Temperature','year'],axis=1)\n",
    "y = df['Temperature']"
   ]
  },
  {
   "cell_type": "code",
   "execution_count": 10,
   "metadata": {},
   "outputs": [],
   "source": [
    "scale = ColumnTransformer(transformers=[\n",
    "    ('scale', PowerTransformer(),slice(0,11))\n",
    "],remainder='passthrough')\n",
    "tnf = ColumnTransformer(transformers=[\n",
    "    ('ohe', OneHotEncoder(sparse=False, drop= 'first'),[11])\n",
    "],remainder='passthrough')\n",
    "\n"
   ]
  },
  {
   "cell_type": "markdown",
   "metadata": {},
   "source": [
    "## Linear Regression"
   ]
  },
  {
   "cell_type": "code",
   "execution_count": 11,
   "metadata": {},
   "outputs": [
    {
     "name": "stdout",
     "output_type": "stream",
     "text": [
      "R2 SCORE 0.6274467795991874\n",
      "MAE 1.6555082527105962\n"
     ]
    }
   ],
   "source": [
    "X_train, X_test, y_train, y_test = train_test_split(X, y, train_size=0.3, random_state=198)\n",
    "pipe = Pipeline([\n",
    "        ('tnf',tnf),\n",
    "        ('scale',scale),\n",
    "        ('model',LinearRegression(fit_intercept=True))\n",
    "    ])\n",
    "pipe.fit(X_train, y_train)\n",
    "y_pred = pipe.predict(X_test)\n",
    "print('R2 SCORE', r2_score(y_test,y_pred))\n",
    "print('MAE', mean_absolute_error(y_test,y_pred))"
   ]
  },
  {
   "cell_type": "markdown",
   "metadata": {},
   "source": [
    "## Ridge Regression"
   ]
  },
  {
   "cell_type": "code",
   "execution_count": 15,
   "metadata": {},
   "outputs": [
    {
     "name": "stdout",
     "output_type": "stream",
     "text": [
      "R2 SCORE 0.6274467795991874\n",
      "MAE 1.6555082527105962\n"
     ]
    }
   ],
   "source": [
    "X_train, X_test, y_train, y_test = train_test_split(X, y, train_size=0.3, random_state=198)\n",
    "pipe = Pipeline([\n",
    "        ('tnf',tnf),\n",
    "        ('scale',scale),\n",
    "        ('model',LinearRegression(fit_intercept=True))\n",
    "    ])\n",
    "pipe.fit(X_train, y_train)\n",
    "y_pred = pipe.predict(X_test)\n",
    "print('R2 SCORE', r2_score(y_test,y_pred))\n",
    "print('MAE', mean_absolute_error(y_test,y_pred))"
   ]
  },
  {
   "cell_type": "markdown",
   "metadata": {},
   "source": [
    "## Lasso Regression"
   ]
  },
  {
   "cell_type": "code",
   "execution_count": 16,
   "metadata": {},
   "outputs": [
    {
     "name": "stdout",
     "output_type": "stream",
     "text": [
      "R2 SCORE 0.4288385456284802\n",
      "MAE 2.0427523025556718\n"
     ]
    }
   ],
   "source": [
    "X_train, X_test, y_train, y_test = train_test_split(X, y, train_size=0.3, random_state=728)\n",
    "pipe = Pipeline([\n",
    "        ('tnf',tnf),\n",
    "        ('scale',scale),\n",
    "        ('model',Lasso(fit_intercept=True))\n",
    "    ])\n",
    "pipe.fit(X_train, y_train)\n",
    "y_pred = pipe.predict(X_test)\n",
    "print('R2 SCORE', r2_score(y_test,y_pred))\n",
    "print('MAE', mean_absolute_error(y_test,y_pred))"
   ]
  },
  {
   "cell_type": "markdown",
   "metadata": {},
   "source": [
    "## SVR"
   ]
  },
  {
   "cell_type": "code",
   "execution_count": 17,
   "metadata": {},
   "outputs": [
    {
     "name": "stdout",
     "output_type": "stream",
     "text": [
      "R2 SCORE 0.6160776443762215\n",
      "MAE 1.831236127863886\n"
     ]
    }
   ],
   "source": [
    "X_train, X_test, y_train, y_test = train_test_split(X, y, train_size=0.3, random_state=480)\n",
    "pipe = Pipeline([\n",
    "        ('tnf',tnf),\n",
    "        ('scale',scale),\n",
    "        ('model',SVR(C=1,kernel='linear',gamma='auto',max_iter=5e4))\n",
    "    ])\n",
    "pipe.fit(X_train, y_train)\n",
    "y_pred = pipe.predict(X_test)\n",
    "print('R2 SCORE', r2_score(y_test,y_pred))\n",
    "print('MAE', mean_absolute_error(y_test,y_pred))"
   ]
  },
  {
   "cell_type": "markdown",
   "metadata": {},
   "source": [
    "## K Neighbors Regressor"
   ]
  },
  {
   "cell_type": "code",
   "execution_count": 18,
   "metadata": {},
   "outputs": [
    {
     "name": "stdout",
     "output_type": "stream",
     "text": [
      "R2 SCORE 0.5492459133457336\n",
      "MAE 1.8514619883040935\n"
     ]
    }
   ],
   "source": [
    "X_train, X_test, y_train, y_test = train_test_split(X, y, train_size=0.3, random_state=458)\n",
    "pipe = Pipeline([\n",
    "        ('tnf',tnf),\n",
    "        ('scale',scale),\n",
    "        ('model',KNeighborsRegressor())\n",
    "    ])\n",
    "pipe.fit(X_train, y_train)\n",
    "y_pred = pipe.predict(X_test)\n",
    "print('R2 SCORE', r2_score(y_test,y_pred))\n",
    "print('MAE', mean_absolute_error(y_test,y_pred))"
   ]
  },
  {
   "cell_type": "markdown",
   "metadata": {},
   "source": [
    "## Decision Tree Regressor"
   ]
  },
  {
   "cell_type": "code",
   "execution_count": 19,
   "metadata": {},
   "outputs": [
    {
     "name": "stdout",
     "output_type": "stream",
     "text": [
      "R2 SCORE 0.3598262301715661\n",
      "MAE 2.0760233918128654\n"
     ]
    }
   ],
   "source": [
    "X_train, X_test, y_train, y_test = train_test_split(X, y, train_size=0.3, random_state=657)\n",
    "pipe = Pipeline([\n",
    "        ('tnf',tnf),\n",
    "        ('scale',scale),\n",
    "        ('model',DecisionTreeRegressor())\n",
    "    ])\n",
    "pipe.fit(X_train, y_train)\n",
    "y_pred = pipe.predict(X_test)\n",
    "print('R2 SCORE', r2_score(y_test,y_pred))\n",
    "print('MAE', mean_absolute_error(y_test,y_pred))"
   ]
  },
  {
   "cell_type": "markdown",
   "metadata": {},
   "source": [
    "## Random Forest Regression"
   ]
  },
  {
   "cell_type": "code",
   "execution_count": 22,
   "metadata": {},
   "outputs": [
    {
     "name": "stdout",
     "output_type": "stream",
     "text": [
      "R2 SCORE 0.6745237475900951\n",
      "MAE 1.6928070175438594\n"
     ]
    }
   ],
   "source": [
    "X_train, X_test, y_train, y_test = train_test_split(X, y, train_size=0.3, random_state=256)\n",
    "pipe = Pipeline([\n",
    "        ('scale',scale),\n",
    "        ('model',RandomForestRegressor(random_state=96))\n",
    "    ])\n",
    "pipe.fit(X_train.values, y_train.values)\n",
    "y_pred = pipe.predict(X_test.values)\n",
    "print('R2 SCORE', r2_score(y_test,y_pred))\n",
    "print('MAE', mean_absolute_error(y_test,y_pred))"
   ]
  },
  {
   "cell_type": "code",
   "execution_count": 24,
   "metadata": {},
   "outputs": [
    {
     "name": "stdout",
     "output_type": "stream",
     "text": [
      "R2 SCORE 0.6745237475900951\n",
      "MAE 1.6928070175438594\n"
     ]
    }
   ],
   "source": [
    "pipe = Pipeline([\n",
    "    ('scale',scale),\n",
    "    ('model',RandomForestRegressor(random_state=96,n_jobs=-1))\n",
    "])\n",
    "# Number of trees in random forest\n",
    "n_estimators = [100, 200, 300, 1000]\n",
    "# Maximum number of levels in tree\n",
    "max_depth = [80, 90, 100, 110]\n",
    "max_depth.append(None)\n",
    "# Minimum number of samples required to split a node\n",
    "min_samples_split = [8, 10, 12],\n",
    "# Minimum number of samples required at each leaf node\n",
    "min_samples_leaf =[3, 4, 5]\n",
    "# Method of selecting samples for training each tree\n",
    "criterion =['mse', 'mae']\n",
    "max_features=[2,3]\n",
    "# Create the random grid\n",
    "random_grid = {'model__n_estimators': n_estimators,\n",
    "               'model__max_depth': max_depth,\n",
    "               'model__min_samples_split': min_samples_split,\n",
    "               'model__min_samples_leaf': min_samples_leaf,\n",
    "               'model__max_features': max_features \n",
    "            }\n",
    "pipe.fit(X_train.values, y_train.values)\n",
    "y_pred = pipe.predict(X_test.values)\n",
    "print('R2 SCORE', r2_score(y_test,y_pred))\n",
    "print('MAE', mean_absolute_error(y_test,y_pred))"
   ]
  },
  {
   "cell_type": "code",
   "execution_count": 20,
   "metadata": {},
   "outputs": [
    {
     "data": {
      "text/html": [
       "<div>\n",
       "<style scoped>\n",
       "    .dataframe tbody tr th:only-of-type {\n",
       "        vertical-align: middle;\n",
       "    }\n",
       "\n",
       "    .dataframe tbody tr th {\n",
       "        vertical-align: top;\n",
       "    }\n",
       "\n",
       "    .dataframe thead th {\n",
       "        text-align: right;\n",
       "    }\n",
       "</style>\n",
       "<table border=\"1\" class=\"dataframe\">\n",
       "  <thead>\n",
       "    <tr style=\"text-align: right;\">\n",
       "      <th></th>\n",
       "      <th>Model</th>\n",
       "    </tr>\n",
       "    <tr>\n",
       "      <th>Score</th>\n",
       "      <th></th>\n",
       "    </tr>\n",
       "  </thead>\n",
       "  <tbody>\n",
       "    <tr>\n",
       "      <th>0.70</th>\n",
       "      <td>Random Forest</td>\n",
       "    </tr>\n",
       "    <tr>\n",
       "      <th>0.63</th>\n",
       "      <td>Linear Regression</td>\n",
       "    </tr>\n",
       "    <tr>\n",
       "      <th>0.63</th>\n",
       "      <td>Ridge Regression</td>\n",
       "    </tr>\n",
       "    <tr>\n",
       "      <th>0.61</th>\n",
       "      <td>SVR</td>\n",
       "    </tr>\n",
       "    <tr>\n",
       "      <th>0.56</th>\n",
       "      <td>Decision Tree</td>\n",
       "    </tr>\n",
       "    <tr>\n",
       "      <th>0.51</th>\n",
       "      <td>Lasso Regression</td>\n",
       "    </tr>\n",
       "  </tbody>\n",
       "</table>\n",
       "</div>"
      ],
      "text/plain": [
       "                   Model\n",
       "Score                   \n",
       "0.70       Random Forest\n",
       "0.63   Linear Regression\n",
       "0.63    Ridge Regression\n",
       "0.61                 SVR\n",
       "0.56       Decision Tree\n",
       "0.51    Lasso Regression"
      ]
     },
     "execution_count": 20,
     "metadata": {},
     "output_type": "execute_result"
    }
   ],
   "source": [
    "results = pd.DataFrame({\n",
    "    'Model': ['Linear Regression','Lasso Regression', \n",
    "              'Ridge Regression','SVR' ,'Decision Tree','Random Forest'],\n",
    "    'Score': [0.62,0.42,0.62,0.61,0.35,0.67]})\n",
    "\n",
    "result_df = results.sort_values(by='Score', ascending=False)\n",
    "result_df = result_df.set_index('Score')\n",
    "result_df.head(9)"
   ]
  },
  {
   "cell_type": "code",
   "execution_count": 25,
   "metadata": {},
   "outputs": [],
   "source": [
    "### Creating pickle file\n",
    "pickle.dump(pipe,open('../pipe_reg1.pkl','wb'))"
   ]
  },
  {
   "cell_type": "code",
   "execution_count": 26,
   "metadata": {},
   "outputs": [],
   "source": [
    "\n",
    "\n",
    "### Preparing data to create batch prediction\n",
    "import json\n",
    "result = X_test.to_json(orient=\"records\")\n",
    "parsed = json.loads(result)\n",
    "\n"
   ]
  },
  {
   "cell_type": "code",
   "execution_count": 29,
   "metadata": {},
   "outputs": [
    {
     "data": {
      "text/plain": [
       "array([29.21])"
      ]
     },
     "execution_count": 29,
     "metadata": {},
     "output_type": "execute_result"
    }
   ],
   "source": [
    "\n",
    "\n",
    "# Testing created Pipe\n",
    "pickle_model = pickle.load(open('pipe_reg1.pkl','rb'))\n",
    "test_input = np.array([1,6,57,18.0,0.00,65.7000,3.4,7.6,1.3,3.4,0.5,0],dtype=object).reshape(1,12)\n",
    "pipe.predict(test_input)"
   ]
  },
  {
   "cell_type": "code",
   "execution_count": null,
   "metadata": {},
   "outputs": [],
   "source": []
  }
 ],
 "metadata": {
  "kernelspec": {
   "display_name": "Python 3.7.9 64-bit",
   "language": "python",
   "name": "python3"
  },
  "language_info": {
   "codemirror_mode": {
    "name": "ipython",
    "version": 3
   },
   "file_extension": ".py",
   "mimetype": "text/x-python",
   "name": "python",
   "nbconvert_exporter": "python",
   "pygments_lexer": "ipython3",
   "version": "3.7.9"
  },
  "orig_nbformat": 4,
  "vscode": {
   "interpreter": {
    "hash": "76f9d24db490f063a43275b89fd1d2161713c4a18df9de8776ded94173eccf3a"
   }
  }
 },
 "nbformat": 4,
 "nbformat_minor": 2
}
